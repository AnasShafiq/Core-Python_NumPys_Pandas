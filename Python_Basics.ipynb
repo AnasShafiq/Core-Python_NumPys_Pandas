{
  "nbformat": 4,
  "nbformat_minor": 0,
  "metadata": {
    "colab": {
      "provenance": [],
      "authorship_tag": "ABX9TyMlzSYxx9ynZsQgnLe0CuVu",
      "include_colab_link": true
    },
    "kernelspec": {
      "name": "python3",
      "display_name": "Python 3"
    },
    "language_info": {
      "name": "python"
    }
  },
  "cells": [
    {
      "cell_type": "markdown",
      "metadata": {
        "id": "view-in-github",
        "colab_type": "text"
      },
      "source": [
        "<a href=\"https://colab.research.google.com/github/AnasShafiq/Pandas/blob/main/Python_Basics.ipynb\" target=\"_parent\"><img src=\"https://colab.research.google.com/assets/colab-badge.svg\" alt=\"Open In Colab\"/></a>"
      ]
    },
    {
      "cell_type": "code",
      "execution_count": null,
      "metadata": {
        "colab": {
          "base_uri": "https://localhost:8080/"
        },
        "id": "byYEMb0xqGc2",
        "outputId": "ed0061ef-83d7-4dec-8c51-afbfcfc1198d"
      },
      "outputs": [
        {
          "output_type": "stream",
          "name": "stdout",
          "text": [
            "Hello lets GO !!\n"
          ]
        }
      ],
      "source": [
        "print('Hello lets GO !!')"
      ]
    },
    {
      "cell_type": "markdown",
      "source": [
        "#Inputs"
      ],
      "metadata": {
        "id": "7WJl7V1V8IBJ"
      }
    },
    {
      "cell_type": "code",
      "source": [
        "number1 = int(input('Input the first Number = :'))\n",
        "number2 = int(input('Enter the second number'))\n",
        "\n",
        "Sum = number1 + number2\n",
        "print(Sum)"
      ],
      "metadata": {
        "colab": {
          "base_uri": "https://localhost:8080/"
        },
        "id": "pZNUNZk64Vp6",
        "outputId": "b633c5a6-bcfb-4140-b4b6-f7bf3d17b13a"
      },
      "execution_count": null,
      "outputs": [
        {
          "output_type": "stream",
          "name": "stdout",
          "text": [
            "Input the first Number = :3\n",
            "Enter the second number3\n",
            "6\n"
          ]
        }
      ]
    },
    {
      "cell_type": "markdown",
      "source": [
        "#IF ELSE Statements\n"
      ],
      "metadata": {
        "id": "vfwR_PciGCeq"
      }
    },
    {
      "cell_type": "code",
      "source": [
        "#Basic IF Else statement\n",
        "a = int(input('Enter the first Number ='))\n",
        "b = int(input('Enter the second Number ='))\n",
        "c = int(input('Enter the third Number ='))\n",
        "if (a<b):\n",
        "  print('A is the greater Number')\n",
        "else:\n",
        "  print('B is the greater Number')\n",
        "\n",
        "# IF ELIF ELSE case:\n",
        "\n",
        "\n",
        "if (b<a>c):\n",
        "  print('A is the greatest Number')\n",
        "elif (a<b>c):\n",
        "  print('B is the greatest Number')\n",
        "else:\n",
        "  print('C is the greatest Number')\n",
        "\n",
        "#Nested IF Statement\n",
        "\n",
        "if (a>b):\n",
        "  if (a>c):\n",
        "    print('A is the greatest number')\n",
        "  else:\n",
        "    print('C is the greatest Number')"
      ],
      "metadata": {
        "colab": {
          "base_uri": "https://localhost:8080/"
        },
        "id": "JPZ7E_b_AVlD",
        "outputId": "3dac68a7-6893-41d2-ce77-92113a483da0"
      },
      "execution_count": null,
      "outputs": [
        {
          "output_type": "stream",
          "name": "stdout",
          "text": [
            "Enter the first Number =44\n",
            "Enter the second Number =2\n",
            "Enter the third Number =31\n",
            "B is the greater Number\n",
            "A is the greatest Number\n",
            "A is the greatest number\n"
          ]
        }
      ]
    },
    {
      "cell_type": "markdown",
      "source": [
        "# LOOPS"
      ],
      "metadata": {
        "id": "ZU7P8d6BJafv"
      }
    },
    {
      "cell_type": "code",
      "source": [
        "# for Loop\n",
        "for i in range(5):\n",
        "  phone_price = int(input('Enter the price of the phones'))\n",
        "# another example with list\n",
        "numbers = [1,2,3,4,5,6,7]\n",
        "for i in numbers:\n",
        "  print(i)\n",
        "\n",
        "# While Loops\n",
        "a = int(input('Enter the amount you want your message to print for = '))\n",
        "b = input('Enter the message the you want to print = ')\n",
        "while a<0 :\n",
        "  print(b)\n",
        "  a+=1"
      ],
      "metadata": {
        "colab": {
          "base_uri": "https://localhost:8080/"
        },
        "id": "QFMmTizSJeBp",
        "outputId": "2635239c-4207-46c6-80ea-8f377edb8bf7"
      },
      "execution_count": null,
      "outputs": [
        {
          "name": "stdout",
          "output_type": "stream",
          "text": [
            "Enter the price of the phones4\n",
            "Enter the price of the phones4\n",
            "Enter the price of the phones4\n",
            "Enter the price of the phones4\n",
            "Enter the price of the phones4\n",
            "1\n",
            "2\n",
            "3\n",
            "4\n",
            "5\n",
            "6\n",
            "7\n",
            "Enter the amount you want your message to print for = 10\n",
            "Enter the message the you want to print = HELLO THERE\n"
          ]
        }
      ]
    },
    {
      "cell_type": "code",
      "source": [
        "# While Loops\n",
        "a = int(input('Enter the amount you want your message to print for = '))\n",
        "b = input('Enter the message the you want to print = ')\n",
        "while a<=0 :\n",
        "  print(b)\n",
        "  a +=1\n",
        "else:\n",
        "  print('Input value was less than 0')"
      ],
      "metadata": {
        "colab": {
          "base_uri": "https://localhost:8080/"
        },
        "id": "C2nKuW62J4PT",
        "outputId": "23966dc5-64b3-474b-bd61-91646a1174c1"
      },
      "execution_count": null,
      "outputs": [
        {
          "output_type": "stream",
          "name": "stdout",
          "text": [
            "Enter the amount you want your message to print for = 5\n",
            "Enter the message the you want to print = Na\n",
            "Input value was less than 0\n"
          ]
        }
      ]
    },
    {
      "cell_type": "markdown",
      "source": [
        "#Functions"
      ],
      "metadata": {
        "id": "r3nwMzPBPcRz"
      }
    },
    {
      "cell_type": "code",
      "source": [
        "\n",
        "def factorial_value(num):\n",
        "\n",
        "  factorial = 1\n",
        "\n",
        "  if num == 0:\n",
        "    return factorial\n",
        "\n",
        "  else:\n",
        "    for i in range(1, num+1):\n",
        "      factorial = factorial*i\n",
        "    return factorial\n"
      ],
      "metadata": {
        "id": "mw62_mMjkwY2"
      },
      "execution_count": null,
      "outputs": []
    },
    {
      "cell_type": "code",
      "source": [
        "print(factorial_value(4))"
      ],
      "metadata": {
        "colab": {
          "base_uri": "https://localhost:8080/"
        },
        "id": "K_iMQ-p9lMtB",
        "outputId": "ad476c29-d380-4408-a31f-db3b443b8d46"
      },
      "execution_count": null,
      "outputs": [
        {
          "output_type": "stream",
          "name": "stdout",
          "text": [
            "24\n"
          ]
        }
      ]
    },
    {
      "cell_type": "markdown",
      "source": [
        "#Numpy"
      ],
      "metadata": {
        "id": "W_cnD19LnE08"
      }
    },
    {
      "cell_type": "code",
      "source": [
        "import numpy as np\n",
        "# Numpy arrays\n",
        "list1 = np.array([1,2,3,4,5])\n",
        "type(list1)\n",
        "#cheking the dimention of the array\n",
        "list1.shape\n",
        "#making a 2 dimentional array\n",
        "a = np.array([[1,2,3,4],[5,6,7,8]])\n",
        "a.shape\n",
        "#Initial Placeholders in numpay arrays\n",
        "x = np.zeros((2,2)) #prints an array of all 0\n",
        "print(x)\n",
        "y  = np.ones((3,3)) # prints an array of all 1\n",
        "print(y)\n",
        "z = np.full((3,2),2) #prints an array of any specific numbers\n",
        "print(z)\n",
        "i = np.eye(4)# prints an identity matrix\n",
        "print(i)\n",
        "b = np.random.random ((3,4)) #creats an array of random values between 0 and 1\n",
        "print(b)\n",
        "r= np.random.randint(10,1000,(3,4))# creats an array of random integers\n",
        "print(r)\n",
        "\n",
        "#Converting lists to np.array\n",
        "list1 = [1,2,3,4,5,6]\n",
        "NP = np.asarray(list1)\n",
        "NP\n",
        "type(NP)"
      ],
      "metadata": {
        "colab": {
          "base_uri": "https://localhost:8080/"
        },
        "id": "pr2cV5JJlS5V",
        "outputId": "3860518c-3175-4d56-d60b-544a0deb6d29"
      },
      "execution_count": null,
      "outputs": [
        {
          "output_type": "stream",
          "name": "stdout",
          "text": [
            "[[0. 0.]\n",
            " [0. 0.]]\n",
            "[[1. 1. 1.]\n",
            " [1. 1. 1.]\n",
            " [1. 1. 1.]]\n",
            "[[2 2]\n",
            " [2 2]\n",
            " [2 2]]\n",
            "[[1. 0. 0. 0.]\n",
            " [0. 1. 0. 0.]\n",
            " [0. 0. 1. 0.]\n",
            " [0. 0. 0. 1.]]\n",
            "[[0.99301261 0.72269646 0.26078971 0.95618511]\n",
            " [0.19703816 0.47925657 0.98182354 0.53746392]\n",
            " [0.70759729 0.84024567 0.86945072 0.33000192]]\n",
            "[[ 85 139 426 215]\n",
            " [511 334 284  72]\n",
            " [447 744 589 348]]\n"
          ]
        },
        {
          "output_type": "execute_result",
          "data": {
            "text/plain": [
              "numpy.ndarray"
            ]
          },
          "metadata": {},
          "execution_count": 30
        }
      ]
    },
    {
      "cell_type": "markdown",
      "source": [
        "Analysing an array"
      ],
      "metadata": {
        "id": "0TnMupUru4Gp"
      }
    },
    {
      "cell_type": "code",
      "source": [
        "arr = np.random.randint(10,99,(5,5))\n",
        "print(arr)\n",
        "print(type(arr))\n",
        "print(arr.shape)\n",
        "print(arr.ndim)\n",
        "print(arr.size)\n"
      ],
      "metadata": {
        "colab": {
          "base_uri": "https://localhost:8080/"
        },
        "id": "a9xMV_Bwo2IP",
        "outputId": "95f18aff-93f5-44b0-ab6d-76a62e68c008"
      },
      "execution_count": null,
      "outputs": [
        {
          "output_type": "stream",
          "name": "stdout",
          "text": [
            "[[19 72 63 70 43]\n",
            " [90 13 23 80 19]\n",
            " [73 81 80 64 63]\n",
            " [60 31 35 63 39]\n",
            " [97 79 37 64 97]]\n",
            "<class 'numpy.ndarray'>\n",
            "(5, 5)\n",
            "2\n",
            "25\n"
          ]
        }
      ]
    },
    {
      "cell_type": "markdown",
      "source": [
        "Mathematical Operations on an array"
      ],
      "metadata": {
        "id": "ksV6EigfvmBH"
      }
    },
    {
      "cell_type": "code",
      "source": [
        "a = np.random.randint(10,100,(3,3))\n",
        "b = np.random.randint(10,99,(3,3))\n",
        "print(a)\n",
        "print(b)\n",
        "#Simple way\n",
        "print(a+b)\n",
        "print(a-b)\n",
        "print(a/b)\n",
        "print(a*b)\n",
        "print(np.add(a,b))\n",
        "print(np.subtract(a,b))"
      ],
      "metadata": {
        "colab": {
          "base_uri": "https://localhost:8080/"
        },
        "id": "-R795fJnvGqq",
        "outputId": "d1fac8b2-dcb2-4290-d9fe-078c17ef6071"
      },
      "execution_count": null,
      "outputs": [
        {
          "output_type": "stream",
          "name": "stdout",
          "text": [
            "[[59 93 39]\n",
            " [32 68 32]\n",
            " [47 28 18]]\n",
            "[[93 46 79]\n",
            " [12 64 10]\n",
            " [25 82 66]]\n",
            "[[152 139 118]\n",
            " [ 44 132  42]\n",
            " [ 72 110  84]]\n",
            "[[-34  47 -40]\n",
            " [ 20   4  22]\n",
            " [ 22 -54 -48]]\n",
            "[[0.6344086  2.02173913 0.49367089]\n",
            " [2.66666667 1.0625     3.2       ]\n",
            " [1.88       0.34146341 0.27272727]]\n",
            "[[5487 4278 3081]\n",
            " [ 384 4352  320]\n",
            " [1175 2296 1188]]\n",
            "[[152 139 118]\n",
            " [ 44 132  42]\n",
            " [ 72 110  84]]\n",
            "[[-34  47 -40]\n",
            " [ 20   4  22]\n",
            " [ 22 -54 -48]]\n"
          ]
        }
      ]
    },
    {
      "cell_type": "markdown",
      "source": [
        "Array Manipulation"
      ],
      "metadata": {
        "id": "MUwgnmtYwvWJ"
      }
    },
    {
      "cell_type": "code",
      "source": [
        "#simple methord\n",
        "print (a)\n",
        "at = np.transpose(a)\n",
        "print(at)\n",
        "#short Methord\n",
        "a.T"
      ],
      "metadata": {
        "colab": {
          "base_uri": "https://localhost:8080/"
        },
        "id": "FHoU9SdLwzC1",
        "outputId": "866be7d9-1386-475b-cec4-1a41403d8078"
      },
      "execution_count": null,
      "outputs": [
        {
          "output_type": "stream",
          "name": "stdout",
          "text": [
            "[[59 93 39]\n",
            " [32 68 32]\n",
            " [47 28 18]]\n",
            "[[59 32 47]\n",
            " [93 68 28]\n",
            " [39 32 18]]\n"
          ]
        },
        {
          "output_type": "execute_result",
          "data": {
            "text/plain": [
              "array([[59, 32, 47],\n",
              "       [93, 68, 28],\n",
              "       [39, 32, 18]])"
            ]
          },
          "metadata": {},
          "execution_count": 40
        }
      ]
    }
  ]
}